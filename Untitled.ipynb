{
 "cells": [
  {
   "cell_type": "code",
   "execution_count": 7,
   "metadata": {},
   "outputs": [],
   "source": [
    "import sys\n",
    "import os\n",
    "import cv2\n",
    "from PIL import Image\n",
    "\n",
    "directory ='data/train/0'\n",
    "imagecount = 1000\n",
    "\n",
    "os.makedirs(directory, exist_ok=True)\n",
    "\n",
    "video = cv2.VideoCapture(0)\n",
    "\n",
    "filename = len(os.listdir(directory))\n",
    "count = 0\n",
    "\n",
    "while True and count < imagecount:\n",
    "        filename += 1\n",
    "        count += 1\n",
    "        _, frame = video.read()\n",
    "        im = Image.fromarray(frame, 'RGB')\n",
    "        #im = im.resize((480,640))\n",
    "        im.save(os.path.join(directory, str(filename)+\".jpg\"), \"JPEG\")\n",
    "\n",
    "        cv2.imshow(\"Capturing\", frame)\n",
    "        key=cv2.waitKey(1)\n",
    "        if key == ord('q'):\n",
    "                break\n",
    "video.release()\n",
    "cv2.destroyAllWindows()"
   ]
  }
 ],
 "metadata": {
  "kernelspec": {
   "display_name": "Python 3",
   "language": "python",
   "name": "python3"
  },
  "language_info": {
   "codemirror_mode": {
    "name": "ipython",
    "version": 3
   },
   "file_extension": ".py",
   "mimetype": "text/x-python",
   "name": "python",
   "nbconvert_exporter": "python",
   "pygments_lexer": "ipython3",
   "version": "3.7.3"
  }
 },
 "nbformat": 4,
 "nbformat_minor": 2
}
